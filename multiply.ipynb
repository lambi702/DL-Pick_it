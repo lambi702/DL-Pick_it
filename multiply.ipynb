{
 "cells": [
  {
   "cell_type": "code",
   "execution_count": 9,
   "metadata": {},
   "outputs": [],
   "source": [
    "import numpy as np\n",
    "import pandas as pd\n",
    "import torch\n",
    "import random\n",
    "from torchvision import transforms\n",
    "from torch.utils.data import Dataset, DataLoader\n",
    "import matplotlib.pyplot as plt\n",
    "from sklearn.model_selection import train_test_split"
   ]
  },
  {
   "attachments": {},
   "cell_type": "markdown",
   "metadata": {},
   "source": [
    "### Creation of a dataset class"
   ]
  },
  {
   "cell_type": "code",
   "execution_count": 10,
   "metadata": {},
   "outputs": [],
   "source": [
    "class PickItDataset(Dataset):\n",
    "\n",
    "    def __init__(self, pickle_path, transform=None):\n",
    "        data = pd.read_pickle(pickle_path)\n",
    "        self.cube = data[\"data_cube\"]\n",
    "        self.masks = data[\"masks\"]\n",
    "        self.labels = data[\"class\"]\n",
    "        self.transform = transform\n",
    "\n",
    "    def __len__(self):\n",
    "        return len(self.labels)\n",
    "\n",
    "    def __getitem__(self, idx):\n",
    "        if torch.is_tensor(idx):\n",
    "            index = index.tolist()\n",
    "\n",
    "        cube = torch.from_numpy(self.cube[idx].copy())\n",
    "        mask = self.masks[idx]\n",
    "        label = self.labels[idx]\n",
    "\n",
    "        sample = {\"cube\": cube, \"mask\": mask, \"label\": label}\n",
    "\n",
    "        if self.transform:\n",
    "            sample = self.transform(sample)\n",
    "\n",
    "        return sample\n"
   ]
  },
  {
   "attachments": {},
   "cell_type": "markdown",
   "metadata": {},
   "source": [
    "### Definition of the transforms"
   ]
  },
  {
   "cell_type": "code",
   "execution_count": 11,
   "metadata": {},
   "outputs": [],
   "source": [
    "class Rescale(object):\n",
    "    def __init__(self, h, w):\n",
    "        self.h = h\n",
    "        self.w = w\n",
    "\n",
    "    def __call__(self, sample):\n",
    "        cube, mask, label = sample[\"cube\"], sample[\"mask\"], sample[\"label\"]\n",
    "        cube = transforms.Resize((self.h, self.w))(cube)\n",
    "        mask = np.resize(mask, (self.h, self.w))\n",
    "        return {\"cube\": cube, \"mask\": mask, \"label\": label}\n",
    "\n",
    "\n",
    "class RandomHorizontalFlip(object):\n",
    "    def __init__(self, p):\n",
    "        self.p = p\n",
    "\n",
    "    def __call__(self, sample):\n",
    "        cube, mask, label = sample[\"cube\"], sample[\"mask\"], sample[\"label\"]\n",
    "        if random.random() < self.p:\n",
    "            cube = transforms.RandomHorizontalFlip(p=1)(cube)\n",
    "            mask = np.fliplr(mask)\n",
    "        return {\"cube\": cube, \"mask\": mask.copy(), \"label\": label}\n",
    "    \n",
    "class RandomVerticalFlip(object):\n",
    "    def __init__(self, p):\n",
    "        self.p = p\n",
    "\n",
    "    def __call__(self, sample):\n",
    "        cube, mask, label = sample[\"cube\"], sample[\"mask\"], sample[\"label\"]\n",
    "        if random.random() < self.p:\n",
    "            cube = transforms.RandomVerticalFlip(p=1)(cube)\n",
    "            mask = np.flipud(mask)\n",
    "        return {\"cube\": cube, \"mask\": mask.copy(), \"label\": label}\n",
    "    \n",
    "class Normalize(object):\n",
    "    def __call__(self, sample):\n",
    "        cube, mask, label = sample[\"cube\"], sample[\"mask\"], sample[\"label\"]\n",
    "        mean = cube.mean()\n",
    "        std = cube.std()\n",
    "        cube = transforms.Normalize(mean,std)(cube)\n",
    "        return {\"cube\": cube, \"mask\": mask, \"label\": label}"
   ]
  },
  {
   "attachments": {},
   "cell_type": "markdown",
   "metadata": {},
   "source": [
    "### loadind the dataset, applying the transforms and creating the dataloader"
   ]
  },
  {
   "cell_type": "code",
   "execution_count": 12,
   "metadata": {},
   "outputs": [],
   "source": [
    "pickle_path = './data/original/dataset_3d_vnir_xrt.pkl'\n",
    "compute = True\n",
    "\n",
    "def multiply_layers(sample):\n",
    "    cube, mask, label = sample[\"cube\"], sample[\"mask\"], sample[\"label\"]\n",
    "    d3_vnir = []\n",
    "    for i in range(1, 9):\n",
    "        d3_vnir.append(cube[0] * cube[i])\n",
    "    d3_vnir = torch.stack(d3_vnir)\n",
    "    cube = torch.cat((cube, d3_vnir), 0)\n",
    "\n",
    "    xray_vnir = []\n",
    "    for i in range(9,11):\n",
    "        for j in range(1,9):\n",
    "            xray_vnir.append(cube[i] * cube[j])\n",
    "    xray_vnir = torch.stack(xray_vnir)\n",
    "    cube = torch.cat((cube, xray_vnir), 0)\n",
    "\n",
    "    d3_xray = []\n",
    "    for i in range(9,11):\n",
    "        d3_xray.append(cube[0] * cube[i])\n",
    "    d3_xray = torch.stack(d3_xray)\n",
    "    cube = torch.cat((cube, d3_xray), 0)\n",
    "    \n",
    "    return {\"cube\": cube, \"mask\": mask, \"label\": label}\n",
    "\n",
    "if compute:\n",
    "    composed = transforms.Compose([multiply_layers, Rescale(256, 256),RandomHorizontalFlip(0.5),RandomVerticalFlip(0.5),Normalize()])\n",
    "    pickit_dataset = PickItDataset(pickle_path, transform=composed)\n",
    "\n",
    "    X_train, X_test, y_train, y_test = train_test_split(pickit_dataset, pickit_dataset.labels, test_size=0.2, random_state=42)"
   ]
  },
  {
   "cell_type": "code",
   "execution_count": 15,
   "metadata": {},
   "outputs": [
    {
     "name": "stdout",
     "output_type": "stream",
     "text": [
      "torch.Size([8, 37, 256, 256])\n",
      "torch.Size([8, 37, 256, 256])\n"
     ]
    }
   ],
   "source": [
    "train_loader = DataLoader(X_train, batch_size=8, shuffle=True, num_workers=0)\n",
    "test_loader = DataLoader(X_test, batch_size=8, shuffle=True, num_workers=0)\n",
    "\n",
    "print(next(iter(train_loader))[\"cube\"].shape)\n",
    "print(next(iter(test_loader))[\"cube\"].shape)"
   ]
  }
 ],
 "metadata": {
  "kernelspec": {
   "display_name": "Python 3 (ipykernel)",
   "language": "python",
   "name": "python3"
  },
  "language_info": {
   "codemirror_mode": {
    "name": "ipython",
    "version": 3
   },
   "file_extension": ".py",
   "mimetype": "text/x-python",
   "name": "python",
   "nbconvert_exporter": "python",
   "pygments_lexer": "ipython3",
   "version": "3.10.11"
  },
  "orig_nbformat": 4
 },
 "nbformat": 4,
 "nbformat_minor": 2
}

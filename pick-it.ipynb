{
 "cells": [
  {
   "cell_type": "code",
   "execution_count": 1,
   "metadata": {},
   "outputs": [],
   "source": [
    "import numpy as np\n",
    "import pandas as pd\n",
    "import torch\n",
    "import random\n",
    "from torchvision import transforms\n",
    "from torch.utils.data import Dataset, DataLoader"
   ]
  },
  {
   "attachments": {},
   "cell_type": "markdown",
   "metadata": {},
   "source": [
    "### Data in data_cube"
   ]
  },
  {
   "cell_type": "code",
   "execution_count": 2,
   "metadata": {},
   "outputs": [],
   "source": [
    "pi_data_dict = {0: \"3D\",\n",
    "                1: \"VNIR 1\",\n",
    "                2: \"VNIR 2\",\n",
    "                3: \"VNIR 3\",\n",
    "                4: \"VNIR 4\",\n",
    "                5: \"VNIR 5\",\n",
    "                6: \"VNIR 6\",\n",
    "                7: \"VNIR 7\",\n",
    "                8: \"VNIR 8\",\n",
    "                9: \"XRT 1\",\n",
    "                10: \"XRT 2\"}"
   ]
  },
  {
   "attachments": {},
   "cell_type": "markdown",
   "metadata": {},
   "source": [
    "### Creation of a dataset class"
   ]
  },
  {
   "cell_type": "code",
   "execution_count": 3,
   "metadata": {},
   "outputs": [],
   "source": [
    "class PickItDataset(Dataset):\n",
    "\n",
    "    def __init__(self, pickle_path, transform=None):\n",
    "        data = pd.read_pickle(pickle_path)\n",
    "        self.cube = data[\"data_cube\"]\n",
    "        self.masks = data[\"masks\"]\n",
    "        self.labels = data[\"class\"]\n",
    "        self.transform = transform\n",
    "\n",
    "    def __len__(self):\n",
    "        return len(self.labels)\n",
    "\n",
    "    def __getitem__(self, idx):\n",
    "        if torch.is_tensor(idx):\n",
    "            index = index.tolist()\n",
    "\n",
    "        cube = torch.from_numpy(self.cube[idx].copy())\n",
    "        mask = self.masks[idx]\n",
    "        label = self.labels[idx]\n",
    "\n",
    "        sample = {\"cube\": cube, \"mask\": mask, \"label\": label}\n",
    "\n",
    "        if self.transform:\n",
    "            sample = self.transform(sample)\n",
    "\n",
    "        return sample\n"
   ]
  },
  {
   "attachments": {},
   "cell_type": "markdown",
   "metadata": {},
   "source": [
    "### Definition of the transforms"
   ]
  },
  {
   "cell_type": "code",
   "execution_count": 14,
   "metadata": {},
   "outputs": [],
   "source": [
    "class Rescale(object):\n",
    "    def __init__(self, h, w):\n",
    "        self.h = h\n",
    "        self.w = w\n",
    "\n",
    "    def __call__(self, sample):\n",
    "        cube, mask, label = sample[\"cube\"], sample[\"mask\"], sample[\"label\"]\n",
    "        cube = transforms.Resize((self.h, self.w))(cube)\n",
    "        mask = np.resize(mask, (self.h, self.w))\n",
    "        return {\"cube\": cube, \"mask\": mask, \"label\": label}\n",
    "\n",
    "\n",
    "class RandomHorizontalFlip(object):\n",
    "    def __init__(self, p):\n",
    "        self.p = p\n",
    "\n",
    "    def __call__(self, sample):\n",
    "        cube, mask, label = sample[\"cube\"], sample[\"mask\"], sample[\"label\"]\n",
    "        if random.random() < self.p:\n",
    "            cube = transforms.RandomHorizontalFlip(p=1)(cube)\n",
    "            mask = np.fliplr(mask)\n",
    "        return {\"cube\": cube, \"mask\": mask.copy(), \"label\": label}\n",
    "    \n",
    "class RandomVerticalFlip(object):\n",
    "    def __init__(self, p):\n",
    "        self.p = p\n",
    "\n",
    "    def __call__(self, sample):\n",
    "        cube, mask, label = sample[\"cube\"], sample[\"mask\"], sample[\"label\"]\n",
    "        if random.random() < self.p:\n",
    "            cube = transforms.RandomVerticalFlip(p=1)(cube)\n",
    "            mask = np.flipud(mask)\n",
    "        return {\"cube\": cube, \"mask\": mask.copy(), \"label\": label}"
   ]
  },
  {
   "attachments": {},
   "cell_type": "markdown",
   "metadata": {},
   "source": [
    "### loadind the dataset, applying the transforms and creating the dataloader"
   ]
  },
  {
   "cell_type": "code",
   "execution_count": 15,
   "metadata": {},
   "outputs": [],
   "source": [
    "pickle_path = './data/original/dataset_3d_vnir_xrt.pkl'\n",
    "\n",
    "composed = transforms.Compose([Rescale(256, 256)])\n",
    "\n",
    "pickit_dataset = PickItDataset(pickle_path, transform=composed)\n",
    "pickit_dataloader = DataLoader(pickit_dataset, batch_size=4, shuffle=True, num_workers=0)\n"
   ]
  },
  {
   "cell_type": "code",
   "execution_count": 17,
   "metadata": {},
   "outputs": [
    {
     "data": {
      "text/plain": [
       "torch.Size([4, 11, 256, 256])"
      ]
     },
     "execution_count": 17,
     "metadata": {},
     "output_type": "execute_result"
    }
   ],
   "source": [
    "next(iter(pickit_dataloader))[\"cube\"].shape"
   ]
  }
 ],
 "metadata": {
  "kernelspec": {
   "display_name": "Python 3 (ipykernel)",
   "language": "python",
   "name": "python3"
  },
  "language_info": {
   "codemirror_mode": {
    "name": "ipython",
    "version": 3
   },
   "file_extension": ".py",
   "mimetype": "text/x-python",
   "name": "python",
   "nbconvert_exporter": "python",
   "pygments_lexer": "ipython3",
   "version": "3.10.9"
  },
  "orig_nbformat": 4
 },
 "nbformat": 4,
 "nbformat_minor": 2
}

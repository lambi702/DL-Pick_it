{
 "cells": [
  {
   "cell_type": "code",
   "execution_count": 1,
   "metadata": {
    "tags": []
   },
   "outputs": [],
   "source": [
    "import numpy as np\n",
    "import pandas as pd\n",
    "import torch\n",
    "from torchvision import transforms\n",
    "from torch.utils.data import Dataset\n",
    "import matplotlib.pyplot as plt\n",
    "import torch.nn as nn\n",
    "import torch.nn.functional as F\n",
    "from tqdm import tqdm\n",
    "from torchvision.models import resnet50, ResNet50_Weights"
   ]
  },
  {
   "cell_type": "markdown",
   "metadata": {},
   "source": [
    "### Data exploration"
   ]
  },
  {
   "cell_type": "code",
   "execution_count": 2,
   "metadata": {},
   "outputs": [],
   "source": [
    "pickle_path = \"/datasets/pick-it/dataset_3d_vnir_xrt.pkl\"\n",
    "data = pd.read_pickle(pickle_path)\n",
    "labels = data[\"class\"].unique().tolist()\n"
   ]
  },
  {
   "cell_type": "code",
   "execution_count": 3,
   "metadata": {
    "tags": []
   },
   "outputs": [],
   "source": [
    "class PickItDataset(Dataset):    \n",
    "    def __init__(self, pickle_path):\n",
    "        data = pd.read_pickle(pickle_path)\n",
    "        cube = data[\"data_cube\"].apply(lambda x: x.astype(np.float32))\n",
    "        mask = data[\"masks\"]\n",
    "        self.data = cube\n",
    "        self.masks = mask\n",
    "        self.labels = data[\"class\"].apply(lambda x: data[\"class\"].unique().tolist().index(x))\n",
    "        self.transform = transforms.Compose([Rescale((256,256)),Normalize()])\n",
    "\n",
    "    def __len__(self):\n",
    "        return len(self.labels)\n",
    "\n",
    "    def __getitem__(self, idx):\n",
    "        if torch.is_tensor(idx):\n",
    "            index = index.tolist()\n",
    "        data = torch.from_numpy(self.data[idx])\n",
    "        mask = torch.tensor(self.masks[idx])\n",
    "        label = self.labels[idx]\n",
    "        sample = {\"data\": data,\"mask\":mask, \"label\": label}\n",
    "        if self.transform:\n",
    "            sample = self.transform(sample)\n",
    "        return sample\n"
   ]
  },
  {
   "cell_type": "markdown",
   "metadata": {},
   "source": [
    "### Definition of the transforms"
   ]
  },
  {
   "cell_type": "code",
   "execution_count": 4,
   "metadata": {
    "tags": []
   },
   "outputs": [],
   "source": [
    "class Rescale(object):\n",
    "    def __init__(self, scale):\n",
    "        self.scale = scale\n",
    "\n",
    "    def __call__(self, sample):\n",
    "        data, mask ,label = sample[\"data\"], sample[\"mask\"],sample[\"label\"]\n",
    "        data = transforms.Resize(self.scale)(data)\n",
    "        mask = transforms.Resize(self.scale)(mask.unsqueeze(0)).squeeze(0)\n",
    "        return {\"data\": data,\"mask\":mask ,\"label\": label}\n",
    "\n",
    "class Normalize(object):\n",
    "    def __call__(self, sample):\n",
    "        data, mask, label = sample[\"data\"], sample[\"mask\"], sample[\"label\"]\n",
    "        mean = torch.mean(data)\n",
    "        std = torch.std(data)\n",
    "        data = transforms.Normalize(mean,std)(data)\n",
    "        return {\"data\": data,\"mask\":mask ,\"label\": label}\n",
    "\n"
   ]
  },
  {
   "cell_type": "markdown",
   "metadata": {},
   "source": [
    "### ResNet50"
   ]
  },
  {
   "cell_type": "code",
   "execution_count": 5,
   "metadata": {
    "tags": []
   },
   "outputs": [],
   "source": [
    "class our_ResNet50(nn.Module):\n",
    "    def __init__(self):\n",
    "        super().__init__()\n",
    "        self.res_net = resnet50()\n",
    "        self.res_net.conv1 = nn.Conv2d(11, 64, kernel_size=7, stride=2, padding=3,bias=False)\n",
    "        self.res_net.fc = nn.Linear(in_features = 2048 , out_features = 8,bias=True)\n",
    "    def forward(self, x):\n",
    "        x = self.res_net.forward(x)\n",
    "        return x"
   ]
  },
  {
   "cell_type": "code",
   "execution_count": 6,
   "metadata": {
    "tags": []
   },
   "outputs": [
    {
     "name": "stdout",
     "output_type": "stream",
     "text": [
      "Network loaded\n"
     ]
    }
   ],
   "source": [
    "device = torch.device('cuda:0' if torch.cuda.is_available() else 'cpu')\n",
    "net = our_ResNet50()\n",
    "net.load_state_dict(torch.load(\"weigths/RES50_AUG_CE_INV.pt\",map_location=torch.device(device)))\n",
    "net.to(device)\n",
    "print(\"Network loaded\")"
   ]
  },
  {
   "cell_type": "code",
   "execution_count": 9,
   "metadata": {},
   "outputs": [],
   "source": [
    "dataset = PickItDataset(pickle_path)"
   ]
  },
  {
   "cell_type": "code",
   "execution_count": 10,
   "metadata": {
    "tags": []
   },
   "outputs": [],
   "source": [
    "def predict(data, i):\n",
    "    device = torch.device('cuda:0' if torch.cuda.is_available() else 'cpu')\n",
    "    data = dataset[i]\n",
    "    images, labels = data[\"data\"].to(device), data[\"label\"]\n",
    "    images = images.unsqueeze(0)\n",
    "    output = net(images).to(device)\n",
    "    output = int(output.argmax())\n",
    "    return output, labels"
   ]
  },
  {
   "cell_type": "code",
   "execution_count": 13,
   "metadata": {
    "tags": []
   },
   "outputs": [
    {
     "name": "stdout",
     "output_type": "stream",
     "text": [
      "Prediction: aluminium ,Truth: zinc\n"
     ]
    }
   ],
   "source": [
    "pred, truth = predict(dataset, 3)\n",
    "print(\"Prediction:\",labels[pred], \",Truth:\",labels[truth])"
   ]
  }
 ],
 "metadata": {
  "kernelspec": {
   "display_name": "Python 3 (ipykernel)",
   "language": "python",
   "name": "python3"
  },
  "language_info": {
   "codemirror_mode": {
    "name": "ipython",
    "version": 3
   },
   "file_extension": ".py",
   "mimetype": "text/x-python",
   "name": "python",
   "nbconvert_exporter": "python",
   "pygments_lexer": "ipython3",
   "version": "3.9.16"
  }
 },
 "nbformat": 4,
 "nbformat_minor": 4
}
